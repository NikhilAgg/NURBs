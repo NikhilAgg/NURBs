{
 "cells": [
  {
   "cell_type": "code",
   "execution_count": 1,
   "metadata": {},
   "outputs": [],
   "source": [
    "%load_ext autoreload\n",
    "%autoreload 2\n",
    "from dolfinx import fem, mesh, plot\n",
    "from dolfinx.io import gmshio\n",
    "from mpi4py import MPI\n",
    "import ufl\n",
    "from petsc4py import PETSc\n",
    "from slepc4py import SLEPc\n",
    "import numpy as np\n",
    "from dolfinx.io import XDMFFile\n",
    "import matplotlib.pyplot as plt\n",
    "from scipy.linalg import null_space\n",
    "from dolfinx_utils import *\n",
    "from helmholtz_x.passive_flame_x import *\n",
    "from helmholtz_x.eigensolvers_x import pep_solver, eps_solver\n",
    "from helmholtz_x.eigenvectors_x import normalize_eigenvector, normalize_unit, normalize_adjoint\n",
    "from helmholtz_x.dolfinx_utils import XDMFReader, xdmf_writer \n",
    "from helmholtz_x.shape_derivatives_x import _shape_gradient_Robin\n",
    "from helmholtz_x.shape_derivatives import ShapeDerivatives\n",
    "# from helmholtz_x.petsc4py_utils import conjugate_function\n",
    "import pyvista\n",
    "%autoreload utils.dolfin_utils"
   ]
  },
  {
   "cell_type": "code",
   "execution_count": 2,
   "metadata": {},
   "outputs": [],
   "source": [
    "def conjugate_function(p, msh, degree):\n",
    "    V = fem.FunctionSpace(msh, (\"Lagrange\", degree))\n",
    "    p_conj = fem.Function(V)\n",
    "    p_conj.vector[:] = np.conjugate(p.vector[:])\n",
    "\n",
    "    return p_conj"
   ]
  },
  {
   "cell_type": "code",
   "execution_count": 3,
   "metadata": {},
   "outputs": [],
   "source": [
    "def normalize_robin_vectors(omega, A, B, C, p, p_adj, R, c, msh, degree):\n",
    "    L_dash = B + (2*omega)*C\n",
    "    # L_dash = (2*omega)*C\n",
    "    V = fem.FunctionSpace(msh, (\"Lagrange\", degree))\n",
    "    Lp = fem.Function(V)\n",
    "    L_dash.mult(p.vector, Lp.vector)\n",
    "\n",
    "    p_conj = conjugate_function(p_adj, msh, degree)\n",
    "    Lp = conjugate_function(Lp, msh, degree)\n",
    "\n",
    "    first_term_val = p_conj.vector.dot(Lp.vector)\n",
    "    print(first_term_val)\n",
    "\n",
    "    # V = fem.FunctionSpace(msh, (\"Lagrange\", degree))\n",
    "    # Lp = fem.Function(V)\n",
    "    # B.mult(p.vector, Lp.vector)\n",
    "    # Lp.vector[:] = Lp.vector[:] + (2*omega)*p.vector[:]\n",
    "\n",
    "    # first_term = fem.form(ufl.inner(Lp, p_adj)*ufl.dx)\n",
    "    # first_term_val = fem.assemble_scalar(first_term)\n",
    "    # print(first_term_val)\n",
    "\n",
    "\n",
    "    Z = (1+R)/(1-R)\n",
    "    # Z=1\n",
    "\n",
    "    second_term = fem.form((1j*c/Z) * ufl.inner(p, p_adj)*ufl.ds)\n",
    "    second_term_val = fem.assemble_scalar(second_term)\n",
    "\n",
    "    norm_const = first_term_val + second_term_val\n",
    "    print(second_term_val)\n",
    "\n",
    "    # p_adj.vector[:] = p_adj.vector[:]/(np.sqrt(norm_const)*np.conjugate(np.sqrt(norm_const)))\n",
    "    # p_adj.vector[:] = p_adj.vector[:]/np.conjugate(norm_const)\n",
    "    p_adj.vector[:] = p_adj.vector[:]/np.conjugate(norm_const)\n",
    "    p_conj = conjugate_function(p_adj, msh, degree)\n",
    "\n",
    "    print((p_conj.vector.dot(Lp.vector) + fem.assemble_scalar(fem.form((1j*c/Z) * ufl.inner(p, p_adj)*ufl.ds))))\n",
    "    print(norm_const)\n",
    "    return [p, p_adj]"
   ]
  },
  {
   "cell_type": "code",
   "execution_count": 4,
   "metadata": {},
   "outputs": [],
   "source": [
    "def find_eigenvalue(epsilon, degree):\n",
    "    N = 100\n",
    "    c_const = 1 #np.sqrt(5)\n",
    "    R = -0.975+0.05j\n",
    "    msh = mesh.create_rectangle(MPI.COMM_WORLD, [[0, -epsilon], [1, 1]], [N, N])\n",
    "    c = fem.Constant(msh, PETSc.ScalarType(c_const))\n",
    "\n",
    "    boundaries = [(1, lambda x: np.isclose(x[0], 0)),\n",
    "              (2, lambda x: np.isclose(x[0], 1)),\n",
    "              (3, lambda x: np.isclose(x[1], -epsilon)),\n",
    "              (4, lambda x: np.isclose(x[1], 1))]\n",
    "    \n",
    "    ds, facet_tags = tag_boundaries(msh, boundaries=boundaries, return_tags=True)\n",
    "\n",
    "    boundary_conditions = {4: {'Robin': R},\n",
    "                        3: {'Robin': R},\n",
    "                        2: {'Robin': R},\n",
    "                        1: {'Robin': R}}\n",
    "\n",
    "    matrices = PassiveFlame(msh, facet_tags, boundary_conditions, c , degree = degree)\n",
    "\n",
    "    matrices.assemble_A()\n",
    "    matrices.assemble_B()\n",
    "    matrices.assemble_C()\n",
    "\n",
    "    A = matrices.A\n",
    "    B = matrices.B\n",
    "    C = matrices.C\n",
    "\n",
    "    # i=0\n",
    "    # omega = 0\n",
    "    # while abs(omega.real - 9.9) > 0.05:\n",
    "    #     target =  np.pi*c_const/(1 + 0.01*i)\n",
    "    #     E = pep_solver(A, B, C, target**2, nev = 2)\n",
    "    #     omega, p = normalize_eigenvector(msh, E, 0, degree=degree, which='right')\n",
    "    #     omega_adj, p_adj = normalize_eigenvector(msh, E, 0, degree=degree, which='left')\n",
    "        # i += 1\n",
    "    \n",
    "    target =  np.pi*c_const*0.7\n",
    "\n",
    "    E = pep_solver(A, B, C, target**2, nev = 2)\n",
    "    omega, p = normalize_eigenvector(msh, E, 0, degree=degree, which='right')\n",
    "    omega_adj, p_adj = normalize_eigenvector(msh, E, 0, degree=degree, which='left')\n",
    "\n",
    "    assert np.isclose(omega, omega_adj)\n",
    "\n",
    "    p = normalize_magnitude(p, imaginary=True)\n",
    "    p_adj = normalize_magnitude(p_adj, imaginary=True)\n",
    "\n",
    "    normalize_robin_vectors(omega, A, B, C, p, p_adj, R, c, msh, degree)\n",
    "    \n",
    "    return [omega, p, p_adj, msh, ds, c, facet_tags]"
   ]
  },
  {
   "cell_type": "code",
   "execution_count": 5,
   "metadata": {},
   "outputs": [],
   "source": [
    "def find_shapegrad_dirichlet(geometry, omega, p, p_adj, ds, c, degree):\n",
    "    # dp_dn = ufl.Dn(p)\n",
    "    # G = _shape_gradient_Robin(geometry, c, omega, p, conjugate_function(p_adj, geometry.mesh), 3)\n",
    "    \n",
    "    kappa = geometry.get_curvature_field(3)\n",
    "    p_adj = conjugate_function(p_adj, geometry.mesh, degree) \n",
    "    G = - p_adj * (kappa*(c**2)+ c*ufl.Dn(c))*ufl.Dn(p) + ufl.div(p_adj*(c**2)*ufl.grad(p)) - 2*ufl.Dn(p_adj)*(c**2)*ufl.Dn(p)\n",
    "\n",
    "    # shape_der = ShapeDerivatives(geometry, [], p, p_adj, c)\n",
    "    # shape_der.curvature = 0\n",
    "    # G = shape_der.get_Robin()\n",
    "    C = 1\n",
    "    dw = fem.assemble_scalar(fem.form(C* G*ds(3)))\n",
    "\n",
    "    return dw"
   ]
  },
  {
   "cell_type": "code",
   "execution_count": 6,
   "metadata": {},
   "outputs": [],
   "source": [
    "class Geometry:\n",
    "    def __init__(self, msh, facet_tags):\n",
    "        self.mesh = msh\n",
    "        self.facet_tags = facet_tags\n",
    "    \n",
    "    def get_curvature_field(self, index):\n",
    "        return 0"
   ]
  },
  {
   "cell_type": "code",
   "execution_count": 7,
   "metadata": {},
   "outputs": [],
   "source": [
    "degree = 2\n",
    "omega, p, p_adj, msh, ds, c, facet_tags = find_eigenvalue(0, degree)\n",
    "geometry = Geometry(msh, facet_tags)\n",
    "dw = find_shapegrad_dirichlet(geometry, omega, p, p_adj, ds, c, degree)\n",
    "print(f\"THIS IS DW: {dw}\")\n",
    "\n",
    "# x_points = []\n",
    "# y_points = []\n",
    "\n",
    "# for i in range(10):\n",
    "#     epsilon = 0.0001*i\n",
    "#     omega_new = find_eigenvalue(epsilon, degree)[0]\n",
    "#     Delta_w_FD = omega_new.real - omega.real\n",
    "#     x_points.append(epsilon**2)\n",
    "#     y_points.append(abs(Delta_w_FD - dw*epsilon))\n",
    "\n",
    "# plt.plot(x_points, y_points)\n",
    "# plt.xlabel('$\\epsilon^2$')\n",
    "# plt.ylabel('$|\\delta_{FD} - \\delta_{AD}|$')"
   ]
  },
  {
   "cell_type": "code",
   "execution_count": 53,
   "metadata": {},
   "outputs": [
    {
     "data": {
      "text/plain": [
       "(-2.3834611126790883+0.0818751279918652j)"
      ]
     },
     "execution_count": 53,
     "metadata": {},
     "output_type": "execute_result"
    }
   ],
   "source": [
    "2.221441395459946+5.0000004218400556e-08j\n",
    "-2.2219893926672305+5.1245550611560676e-08j\n",
    "\n",
    "2.220984770256966+5.00125256870782e-08j\n",
    "-2.221167358445816+5.00166372400286e-08j"
   ]
  },
  {
   "cell_type": "code",
   "execution_count": 54,
   "metadata": {},
   "outputs": [
    {
     "data": {
      "text/plain": [
       "array([2.+1.j, 8.-6.j, 0.+5.j])"
      ]
     },
     "execution_count": 54,
     "metadata": {},
     "output_type": "execute_result"
    }
   ],
   "source": [
    "t1 = x = PETSc.Vec().createSeq(3)\n",
    "t1.setValues(range(3), [1, 2, 3])\n",
    "\n",
    "A = PETSc.Mat().createAIJ([3, 3]) # AIJ represents sparse matrix\n",
    "A.setUp()\n",
    "A.setValues([0, 1, 2], [0, 1, 2], [[1, 0, 0], [0, 2, 0], [0, 0, 1j]])\n",
    "A.assemble()\n",
    "\n",
    "t2 = x = PETSc.Vec().createSeq(3)\n",
    "x.setValues(range(3), [2+1j, 4-3j, 5])\n",
    "\n",
    "t1.dot(t2)\n",
    "\n",
    "A.mult(t2, t1)\n",
    "t1[:]\n"
   ]
  },
  {
   "cell_type": "code",
   "execution_count": 108,
   "metadata": {},
   "outputs": [],
   "source": [
    "def plotp(p, msh, degree, boundary=1, mesh=False):\n",
    "    point = {\n",
    "        1: [(0, 0, 0), (0.99999, 0, 0)],\n",
    "        2: [(0, 0, 0), (0, 0.999999, 0)],\n",
    "        3: [(0, 0.999999, 0), (1, 0.999999, 0)],\n",
    "        4: [(0.99999999, 0, 0), (0.9999999, 0.99999999, 0)]\n",
    "    }\n",
    "    V = fem.FunctionSpace(msh, (\"Lagrange\", degree))\n",
    "    plotter = pyvista.Plotter()\n",
    "    \n",
    "    topology, cell_types, geometry = plot.create_vtk_mesh(msh, msh.topology.dim)\n",
    "    grid = pyvista.UnstructuredGrid(topology, cell_types, geometry)\n",
    "    plotter.add_mesh(grid, show_edges=True)\n",
    "\n",
    "    u_topology, u_cell_types, u_geometry = plot.create_vtk_mesh(V)\n",
    "    u_grid = pyvista.UnstructuredGrid(u_topology, u_cell_types, u_geometry)\n",
    "\n",
    "    u_grid.point_data[\"p\"] = p.x.array.real\n",
    "    \n",
    "    u_grid.point_data[\"pc\"] = p.x.array.imag\n",
    "    u_grid.set_active_scalars(\"p\")\n",
    "    plotter.add_mesh(u_grid, show_edges=True)\n",
    "    x_line = np.linspace(0, 1, 100)\n",
    "    p_sim = u_grid.sample_over_line(*point[boundary], resolution=99).point_data[\"p\"]\n",
    "    pc_sim = u_grid.sample_over_line(*point[boundary], resolution=99).point_data[\"pc\"]\n",
    "    p_act = np.sqrt(2)*np.pi*np.sin(np.pi*x_line)**2\n",
    "    # p_act = -np.pi*np.sin(np.pi*x_line)\n",
    "    # plt.plot(x_line, p_act, label=\"Analytical\")\n",
    "    if not mesh:\n",
    "        plt.plot(x_line, p_sim)\n",
    "        # plt.plot(x_line, p_act, label=\"Analytical\")\n",
    "        plt.legend()\n",
    "    else:\n",
    "        plotter.view_xy()\n",
    "        plotter.show()\n",
    "\n",
    "    del plotter\n",
    "    # return p_sim + pc_sim*1j\n",
    "    "
   ]
  },
  {
   "cell_type": "code",
   "execution_count": 110,
   "metadata": {},
   "outputs": [
    {
     "data": {
      "application/vnd.jupyter.widget-view+json": {
       "model_id": "9516b2834dc24d778969ba5dcd8f9cf6",
       "version_major": 2,
       "version_minor": 0
      },
      "text/plain": [
       "ViewInteractiveWidget(height=768, layout=Layout(height='auto', width='100%'), width=1024)"
      ]
     },
     "metadata": {},
     "output_type": "display_data"
    }
   ],
   "source": [
    "plotp(p_adj, msh, 2, mesh=True)"
   ]
  },
  {
   "cell_type": "code",
   "execution_count": null,
   "metadata": {},
   "outputs": [],
   "source": []
  }
 ],
 "metadata": {
  "kernelspec": {
   "display_name": "Python 3.10.6 64-bit",
   "language": "python",
   "name": "python3"
  },
  "language_info": {
   "codemirror_mode": {
    "name": "ipython",
    "version": 3
   },
   "file_extension": ".py",
   "mimetype": "text/x-python",
   "name": "python",
   "nbconvert_exporter": "python",
   "pygments_lexer": "ipython3",
   "version": "3.10.6"
  },
  "orig_nbformat": 4,
  "vscode": {
   "interpreter": {
    "hash": "916dbcbb3f70747c44a77c7bcd40155683ae19c65e1c03b4aa3499c5328201f1"
   }
  }
 },
 "nbformat": 4,
 "nbformat_minor": 2
}
