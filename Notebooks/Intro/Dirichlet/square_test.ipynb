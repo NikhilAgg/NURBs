{
 "cells": [
  {
   "cell_type": "code",
   "execution_count": 1,
   "metadata": {},
   "outputs": [],
   "source": [
    "%load_ext autoreload\n",
    "%autoreload 2\n",
    "from dolfinx import fem, mesh, plot\n",
    "from dolfinx.io import gmshio\n",
    "from mpi4py import MPI\n",
    "import ufl\n",
    "from petsc4py import PETSc\n",
    "from slepc4py import SLEPc\n",
    "import numpy as np\n",
    "from dolfinx.io import XDMFFile\n",
    "import matplotlib.pyplot as plt\n",
    "from scipy.linalg import null_space\n",
    "from dolfinx_utils import *\n",
    "from helmholtz_x.passive_flame_x import *\n",
    "from helmholtz_x.eigensolvers_x import eps_solver\n",
    "from helmholtz_x.eigenvectors_x import normalize_eigenvector, normalize_unit\n",
    "from helmholtz_x.dolfinx_utils import XDMFReader, xdmf_writer \n",
    "import pyvista\n",
    "\n",
    "%autoreload utils.dolfin_utils"
   ]
  },
  {
   "cell_type": "code",
   "execution_count": 46,
   "metadata": {},
   "outputs": [],
   "source": [
    "N = 100\n",
    "degree = 2\n",
    "c_const = 1\n",
    "msh = mesh.create_unit_square(MPI.COMM_WORLD, N, N)\n",
    "c = fem.Constant(msh, PETSc.ScalarType(c_const))\n"
   ]
  },
  {
   "cell_type": "code",
   "execution_count": 47,
   "metadata": {},
   "outputs": [],
   "source": [
    "boundaries = [(1, lambda x: np.isclose(x[0], 0)),\n",
    "              (2, lambda x: np.isclose(x[0], 1)),\n",
    "              (3, lambda x: np.isclose(x[1], 0)),\n",
    "              (4, lambda x: np.isclose(x[1], 1))]\n",
    "    \n",
    "ds, facet_tags = tag_boundaries(msh, boundaries=boundaries, return_tags=True)\n",
    "\n",
    "boundary_conditions = {4: {'Dirichlet'},\n",
    "                       3: {'Dirichlet'},\n",
    "                       2: {'Dirichlet'},\n",
    "                       1: {'Dirichlet'}}"
   ]
  },
  {
   "cell_type": "code",
   "execution_count": 48,
   "metadata": {},
   "outputs": [
    {
     "name": "stdout",
     "output_type": "stream",
     "text": [
      "\\/ Speed of sound function is used for passive flame matrices.\n",
      "- Passive matrices are assembling..\n",
      "- Matrix A is assembled.\n",
      "- Matrix C is assembled.\n",
      "\n"
     ]
    }
   ],
   "source": [
    "matrices = PassiveFlame(msh, facet_tags, boundary_conditions, c , degree = degree)\n",
    "\n",
    "matrices.assemble_A()\n",
    "matrices.assemble_C()\n",
    "\n",
    "A = matrices.A\n",
    "C = matrices.C"
   ]
  },
  {
   "cell_type": "code",
   "execution_count": 52,
   "metadata": {},
   "outputs": [
    {
     "name": "stdout",
     "output_type": "stream",
     "text": [
      "- EPS solver started.\n",
      "- EPS solver converged. Eigenvalue computed.\n",
      "Eigenvalue-> 4.442883-0.000000j\n",
      "\n",
      "Frequency -> 0.707107 (1/s) | Growth Rate -> -0.000000 (rad/s) \n",
      "\n",
      "(-9.778462667715741e-16+8.317591335296268e-16j)\n"
     ]
    }
   ],
   "source": [
    "target =  c_const * np.pi\n",
    "E = eps_solver(A, C, target**2, nev = 2)\n",
    "omega, p = normalize_eigenvector(msh, E, 0, degree=degree, which='right')\n",
    "\n",
    "xdmf_writer(\"Results/p\", msh, p)\n",
    "\n",
    "p_normalized = normalize_unit(p)\n",
    "xdmf_writer(\"Results/p_normalized\", msh, p_normalized)\n",
    "\n",
    "p = normalize_magnitude(p)"
   ]
  },
  {
   "cell_type": "code",
   "execution_count": 53,
   "metadata": {},
   "outputs": [],
   "source": [
    "V = fem.FunctionSpace(msh, (\"Lagrange\", degree))\n",
    "V2 = fem.VectorFunctionSpace(msh, (\"Lagrange\", degree))\n",
    "w = ufl.TrialFunction(V2)\n",
    "v = ufl.TestFunction(V2)\n",
    "\n",
    "a = ufl.inner(w, v)*ufl.dx\n",
    "L = ufl.inner(ufl.grad(p), v)*ufl.dx\n",
    "\n",
    "problem = fem.petsc.LinearProblem(a, L, petsc_options={\"ksp_type\": \"preonly\", \"pc_type\": \"lu\"})\n",
    "grad_p = problem.solve()"
   ]
  },
  {
   "cell_type": "code",
   "execution_count": 69,
   "metadata": {},
   "outputs": [],
   "source": [
    "G = fem.Function(V)\n",
    "expr = fem.Expression(-2/omega.real*np.dot(grad_p, [0, -1])**2, V.element.interpolation_points())\n",
    "# expr = fem.Expression(1/(2.220984770256966)*((ufl.div(p*ufl.grad(p))) - 2*np.dot(ufl.grad(p), [0, -1])*(1**2)*np.dot(ufl.grad(p), [0, -1])), V.element.interpolation_points())\n",
    "G.interpolate(expr)"
   ]
  },
  {
   "cell_type": "code",
   "execution_count": 70,
   "metadata": {},
   "outputs": [
    {
     "data": {
      "text/plain": [
       "<matplotlib.legend.Legend at 0x7fd946e29030>"
      ]
     },
     "execution_count": 70,
     "metadata": {},
     "output_type": "execute_result"
    },
    {
     "data": {
      "image/png": "[encoded data removed]",
      "text/plain": [
       "<Figure size 640x480 with 1 Axes>"
      ]
     },
     "metadata": {},
     "output_type": "display_data"
    }
   ],
   "source": [
    "plotter = pyvista.Plotter()\n",
    "\n",
    "topology, cell_types, geometry = plot.create_vtk_mesh(msh, msh.topology.dim)\n",
    "grid = pyvista.UnstructuredGrid(topology, cell_types, geometry)\n",
    "plotter.add_mesh(grid, show_edges=True)\n",
    "\n",
    "u_topology, u_cell_types, u_geometry = plot.create_vtk_mesh(V)\n",
    "u_grid = pyvista.UnstructuredGrid(u_topology, u_cell_types, u_geometry)\n",
    "\n",
    "u_grid.point_data[\"p\"] = G.x.array.real\n",
    "u_grid.set_active_scalars(\"p\")\n",
    "plotter.add_mesh(u_grid, show_edges=True)\n",
    "x_line = np.linspace(0, 1, 100)\n",
    "p_sim = u_grid.sample_over_line((0, 0, 0), (1, 0, 0), resolution=99).point_data[\"p\"]\n",
    "p_act = -np.sqrt(2)*np.pi*np.sin(np.pi*x_line)**2\n",
    "# p_act = -np.pi*np.sin(np.pi*x_line)\n",
    "plt.plot(x_line, p_act, label=\"Analytical\")\n",
    "plt.plot(x_line, p_sim, label=\"Numerical\")\n",
    "plt.legend()\n",
    "\n",
    "# plotter.view_xy()\n",
    "# plotter.show()"
   ]
  },
  {
   "cell_type": "code",
   "execution_count": 72,
   "metadata": {},
   "outputs": [
    {
     "name": "stdout",
     "output_type": "stream",
     "text": [
      "(-2.221988939107271-5.442303284037087e-16j)\n"
     ]
    }
   ],
   "source": [
    "int_form = fem.form(abs(G)*ds(3))\n",
    "const = 1/fem.assemble_scalar(int_form)\n",
    "int_form = fem.form(G*ds(3))\n",
    "dw = fem.assemble_scalar(int_form)\n",
    "print(dw)"
   ]
  },
  {
   "cell_type": "code",
   "execution_count": 10,
   "metadata": {},
   "outputs": [
    {
     "name": "stdout",
     "output_type": "stream",
     "text": [
      "(3.3306552126337916-1.6315504980861682e-15j)\n"
     ]
    }
   ],
   "source": [
    "dp_dn = ufl.Dn(p)\n",
    "G = 2/omega.real*dp_dn**2\n",
    "int_form = fem.form(abs(G)*ds(3))\n",
    "const = 1/fem.assemble_scalar(int_form)\n",
    "C = const * G\n",
    "dw = fem.assemble_scalar(fem.form(C* G*ds(3)))\n",
    "print(dw)"
   ]
  },
  {
   "cell_type": "code",
   "execution_count": 11,
   "metadata": {},
   "outputs": [],
   "source": [
    "def find_eigenvalue(epsilon):\n",
    "    N = 100\n",
    "    degree = 1\n",
    "    c_const = 1\n",
    "    msh = mesh.create_rectangle(MPI.COMM_WORLD, [[0, -epsilon], [1, 1]], [N, N])\n",
    "    c = fem.Constant(msh, PETSc.ScalarType(c_const))\n",
    "\n",
    "    boundaries = [(1, lambda x: np.isclose(x[0], 0)),\n",
    "              (2, lambda x: np.isclose(x[0], 1)),\n",
    "              (3, lambda x: np.isclose(x[1], -epsilon)),\n",
    "              (4, lambda x: np.isclose(x[1], 1))]\n",
    "    \n",
    "    ds, facet_tags = tag_boundaries(msh, boundaries=boundaries, return_tags=True)\n",
    "\n",
    "    boundary_conditions = {4: {'Dirichlet'},\n",
    "                        3: {'Dirichlet'},\n",
    "                        2: {'Dirichlet'},\n",
    "                        1: {'Dirichlet'}}\n",
    "\n",
    "    matrices = PassiveFlame(msh, facet_tags, boundary_conditions, c , degree = degree)\n",
    "\n",
    "    matrices.assemble_A()\n",
    "    matrices.assemble_C()\n",
    "\n",
    "    A = matrices.A\n",
    "    C = matrices.C\n",
    "\n",
    "    target =  c_const * np.pi\n",
    "    E = eps_solver(A, C, target**2, nev = 2)\n",
    "    omega, p = normalize_eigenvector(msh, E, 0, degree=degree, which='right')\n",
    "\n",
    "    xdmf_writer(\"Results/p\", msh, p)\n",
    "\n",
    "    p_normalized = normalize_unit(p)\n",
    "    xdmf_writer(\"Results/p_normalized\", msh, p_normalized)\n",
    "\n",
    "    p = normalize_magnitude(p)\n",
    "\n",
    "    return [omega, p, msh, ds]"
   ]
  },
  {
   "cell_type": "code",
   "execution_count": 12,
   "metadata": {},
   "outputs": [],
   "source": [
    "def find_shapegrad_dirichlet(omega, p, msh, ds):\n",
    "    V = fem.FunctionSpace(msh, (\"Lagrange\", 1))\n",
    "    V2 = fem.VectorFunctionSpace(msh, (\"Lagrange\", 1))\n",
    "    w = ufl.TrialFunction(V2)\n",
    "    v = ufl.TestFunction(V2)\n",
    "\n",
    "    a = ufl.inner(w, v)*ufl.dx\n",
    "    L = ufl.inner(ufl.grad(p), v)*ufl.dx\n",
    "\n",
    "    problem = fem.petsc.LinearProblem(a, L, petsc_options={\"ksp_type\": \"preonly\", \"pc_type\": \"lu\"})\n",
    "    grad_p = problem.solve()\n",
    "\n",
    "    G = fem.Function(V)\n",
    "    expr = fem.Expression(2/omega.real*np.dot(grad_p, [0, -1])**2, V.element.interpolation_points())\n",
    "    G.interpolate(expr)\n",
    "    dw = fem.assemble_scalar(fem.form(-G*ds(3))).real\n",
    "\n",
    "    return dw"
   ]
  },
  {
   "cell_type": "code",
   "execution_count": 13,
   "metadata": {},
   "outputs": [],
   "source": [
    "def find_shapegrad_dirichlet(omega, p, msh, ds):\n",
    "    dp_dn = ufl.Dn(p)\n",
    "    G = 2/omega.real*dp_dn**2\n",
    "    C = -1\n",
    "    dw = fem.assemble_scalar(fem.form(C* G*ds(3)))\n",
    "\n",
    "    return dw"
   ]
  },
  {
   "cell_type": "code",
   "execution_count": 14,
   "metadata": {},
   "outputs": [
    {
     "name": "stdout",
     "output_type": "stream",
     "text": [
      "\\/ Speed of sound function is used for passive flame matrices.\n",
      "- Passive matrices are assembling..\n",
      "- Matrix A is assembled.\n",
      "- Matrix C is assembled.\n",
      "\n",
      "- EPS solver started.\n",
      "- EPS solver converged. Eigenvalue computed.\n",
      "Eigenvalue-> 4.443431+0.000000j\n",
      "\n",
      "Frequency -> 0.707194 (1/s) | Growth Rate -> 0.000000 (rad/s) \n",
      "\n",
      "(-1.7655671410415672e-16+1.2872218240675164e-16j)\n",
      "\\/ Speed of sound function is used for passive flame matrices.\n",
      "- Passive matrices are assembling..\n",
      "- Matrix A is assembled.\n",
      "- Matrix C is assembled.\n",
      "\n",
      "- EPS solver started.\n",
      "- EPS solver converged. Eigenvalue computed.\n",
      "Eigenvalue-> 4.443431+0.000000j\n",
      "\n",
      "Frequency -> 0.707194 (1/s) | Growth Rate -> 0.000000 (rad/s) \n",
      "\n",
      "(-1.7655671410415672e-16+1.2872218240675164e-16j)\n",
      "\\/ Speed of sound function is used for passive flame matrices.\n",
      "- Passive matrices are assembling..\n",
      "- Matrix A is assembled.\n",
      "- Matrix C is assembled.\n",
      "\n",
      "- EPS solver started.\n",
      "- EPS solver converged. Eigenvalue computed.\n",
      "Eigenvalue-> 4.443209+0.000000j\n",
      "\n",
      "Frequency -> 0.707159 (1/s) | Growth Rate -> 0.000000 (rad/s) \n",
      "\n",
      "(1.0060523318278028e-15-8.858186825787737e-16j)\n",
      "\\/ Speed of sound function is used for passive flame matrices.\n",
      "- Passive matrices are assembling..\n",
      "- Matrix A is assembled.\n",
      "- Matrix C is assembled.\n",
      "\n",
      "- EPS solver started.\n",
      "- EPS solver converged. Eigenvalue computed.\n",
      "Eigenvalue-> 4.442987-0.000000j\n",
      "\n",
      "Frequency -> 0.707123 (1/s) | Growth Rate -> -0.000000 (rad/s) \n",
      "\n",
      "(7.735144486710346e-16-6.773339740363495e-16j)\n",
      "\\/ Speed of sound function is used for passive flame matrices.\n",
      "- Passive matrices are assembling..\n",
      "- Matrix A is assembled.\n",
      "- Matrix C is assembled.\n",
      "\n",
      "- EPS solver started.\n",
      "- EPS solver converged. Eigenvalue computed.\n",
      "Eigenvalue-> 4.442765-0.000000j\n",
      "\n",
      "Frequency -> 0.707088 (1/s) | Growth Rate -> -0.000000 (rad/s) \n",
      "\n",
      "(-2.318128340220121e-15+1.972071137340924e-15j)\n",
      "\\/ Speed of sound function is used for passive flame matrices.\n",
      "- Passive matrices are assembling..\n",
      "- Matrix A is assembled.\n",
      "- Matrix C is assembled.\n",
      "\n",
      "- EPS solver started.\n",
      "- EPS solver converged. Eigenvalue computed.\n",
      "Eigenvalue-> 4.442543-0.000000j\n",
      "\n",
      "Frequency -> 0.707053 (1/s) | Growth Rate -> -0.000000 (rad/s) \n",
      "\n",
      "(1.0422398838499402e-15-8.845626712515899e-16j)\n",
      "\\/ Speed of sound function is used for passive flame matrices.\n",
      "- Passive matrices are assembling..\n",
      "- Matrix A is assembled.\n",
      "- Matrix C is assembled.\n",
      "\n",
      "- EPS solver started.\n",
      "- EPS solver converged. Eigenvalue computed.\n",
      "Eigenvalue-> 4.442321-0.000000j\n",
      "\n",
      "Frequency -> 0.707017 (1/s) | Growth Rate -> -0.000000 (rad/s) \n",
      "\n",
      "(6.953528208410067e-16-5.97576581026118e-16j)\n",
      "\\/ Speed of sound function is used for passive flame matrices.\n",
      "- Passive matrices are assembling..\n",
      "- Matrix A is assembled.\n",
      "- Matrix C is assembled.\n",
      "\n",
      "- EPS solver started.\n",
      "- EPS solver converged. Eigenvalue computed.\n",
      "Eigenvalue-> 4.442099-0.000000j\n",
      "\n",
      "Frequency -> 0.706982 (1/s) | Growth Rate -> -0.000000 (rad/s) \n",
      "\n",
      "(1.6292153165336716e-15-1.3510623894065445e-15j)\n",
      "\\/ Speed of sound function is used for passive flame matrices.\n",
      "- Passive matrices are assembling..\n",
      "- Matrix A is assembled.\n",
      "- Matrix C is assembled.\n",
      "\n",
      "- EPS solver started.\n",
      "- EPS solver converged. Eigenvalue computed.\n",
      "Eigenvalue-> 4.441877+0.000000j\n",
      "\n",
      "Frequency -> 0.706947 (1/s) | Growth Rate -> 0.000000 (rad/s) \n",
      "\n",
      "(7.701542862418127e-16-6.379282432769312e-16j)\n",
      "\\/ Speed of sound function is used for passive flame matrices.\n",
      "- Passive matrices are assembling..\n",
      "- Matrix A is assembled.\n",
      "- Matrix C is assembled.\n",
      "\n",
      "- EPS solver started.\n",
      "- EPS solver converged. Eigenvalue computed.\n",
      "Eigenvalue-> 4.441655-0.000000j\n",
      "\n",
      "Frequency -> 0.706911 (1/s) | Growth Rate -> -0.000000 (rad/s) \n",
      "\n",
      "(-8.369537095500512e-16+6.894803363707834e-16j)\n",
      "\\/ Speed of sound function is used for passive flame matrices.\n",
      "- Passive matrices are assembling..\n",
      "- Matrix A is assembled.\n",
      "- Matrix C is assembled.\n",
      "\n",
      "- EPS solver started.\n",
      "- EPS solver converged. Eigenvalue computed.\n",
      "Eigenvalue-> 4.441434+0.000000j\n",
      "\n",
      "Frequency -> 0.706876 (1/s) | Growth Rate -> 0.000000 (rad/s) \n",
      "\n",
      "(5.081421299368906e-16-4.284162790834585e-16j)\n"
     ]
    },
    {
     "data": {
      "text/plain": [
       "Text(0, 0.5, '$|\\\\delta_{FD} - \\\\delta_{AD}|$')"
      ]
     },
     "execution_count": 14,
     "metadata": {},
     "output_type": "execute_result"
    },
    {
     "data": {
      "image/png": "[encoded data removed]",
      "text/plain": [
       "<Figure size 640x480 with 1 Axes>"
      ]
     },
     "metadata": {},
     "output_type": "display_data"
    }
   ],
   "source": [
    "omega, p, msh, ds = find_eigenvalue(0)\n",
    "dw = find_shapegrad_dirichlet(omega, p, msh, ds)\n",
    "x_points = []\n",
    "y_points = []\n",
    "\n",
    "for i in range(10):\n",
    "    epsilon = 0.0001*i\n",
    "    omega_new = find_eigenvalue(epsilon)[0]\n",
    "    Delta_w_FD = omega_new.real - omega.real\n",
    "    x_points.append(epsilon**2)\n",
    "    y_points.append(abs(Delta_w_FD - dw*epsilon))\n",
    "\n",
    "plt.plot(x_points, y_points)\n",
    "plt.xlabel('$\\epsilon^2$')\n",
    "plt.ylabel('$|\\delta_{FD} - \\delta_{AD}|$')\n"
   ]
  },
  {
   "cell_type": "code",
   "execution_count": null,
   "metadata": {},
   "outputs": [],
   "source": []
  }
 ],
 "metadata": {
  "kernelspec": {
   "display_name": "Python 3.10.6 64-bit",
   "language": "python",
   "name": "python3"
  },
  "language_info": {
   "codemirror_mode": {
    "name": "ipython",
    "version": 3
   },
   "file_extension": ".py",
   "mimetype": "text/x-python",
   "name": "python",
   "nbconvert_exporter": "python",
   "pygments_lexer": "ipython3",
   "version": "3.10.6"
  },
  "orig_nbformat": 4,
  "vscode": {
   "interpreter": {
    "hash": "916dbcbb3f70747c44a77c7bcd40155683ae19c65e1c03b4aa3499c5328201f1"
   }
  }
 },
 "nbformat": 4,
 "nbformat_minor": 2
}
