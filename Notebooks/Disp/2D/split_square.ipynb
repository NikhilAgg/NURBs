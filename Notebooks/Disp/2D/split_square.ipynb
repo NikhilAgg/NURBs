{
 "cells": [
  {
   "cell_type": "code",
   "execution_count": 1,
   "metadata": {},
   "outputs": [],
   "source": [
    "%load_ext autoreload\n",
    "%autoreload 2\n",
    "import os\n",
    "import sys\n",
    "module_path = os.path.abspath(os.path.join('..'))\n",
    "if module_path not in sys.path:\n",
    "    sys.path.append(module_path)\n",
    "\n",
    "from dolfinx import fem, mesh, plot\n",
    "from dolfinx.io import gmshio\n",
    "from mpi4py import MPI\n",
    "import ufl\n",
    "from petsc4py import PETSc\n",
    "from slepc4py import SLEPc\n",
    "import numpy as np\n",
    "from dolfinx.io import XDMFFile\n",
    "import matplotlib.pyplot as plt\n",
    "from scipy.linalg import null_space\n",
    "from dolfinx_utils import *\n",
    "from helmholtz_x.passive_flame_x import *\n",
    "from helmholtz_x.eigensolvers_x import eps_solver\n",
    "from helmholtz_x.eigenvectors_x import normalize_eigenvector, normalize_unit\n",
    "from helmholtz_x.dolfinx_utils import XDMFReader, xdmf_writer \n",
    "from helmholtz_x.petsc4py_utils import vector_matrix_vector, conjugate_function\n",
    "from geoms import split_unit_square, unit_square\n",
    "from bspline.nurbs_geometry import NURBs2DGeometry\n",
    "\n",
    "%autoreload utils.dolfin_utils"
   ]
  },
  {
   "cell_type": "code",
   "execution_count": 2,
   "metadata": {},
   "outputs": [],
   "source": [
    "def create_mesh1(epsilon, lc, degree):\n",
    "    square = unit_square(epsilon, lc)\n",
    "    geom = NURBs2DGeometry([[square]])\n",
    "    geom.model.remove_physical_groups()\n",
    "    geom.model.remove()\n",
    "    geom.generate_mesh()\n",
    "    geom.add_bspline_groups([[9]])\n",
    "    geom.model_to_fenics(MPI.COMM_WORLD, 0, show_mesh=False)\n",
    "    geom.create_function_space(\"Lagrange\", degree)\n",
    "\n",
    "    return geom"
   ]
  },
  {
   "cell_type": "code",
   "execution_count": 3,
   "metadata": {},
   "outputs": [],
   "source": [
    "def create_mesh(epsilon, lc, degree):\n",
    "    edge1, edge2, edge3, edge4 = split_unit_square(epsilon, lc)\n",
    "    geom = NURBs2DGeometry([[edge1, edge2, edge3, edge4]])\n",
    "    geom.model.remove_physical_groups()\n",
    "    geom.model.remove()\n",
    "    geom.generate_mesh()\n",
    "    geom.add_bspline_groups([[10, 11, 12, 13]])\n",
    "    geom.model_to_fenics(MPI.COMM_WORLD, 0, show_mesh=False)\n",
    "    geom.create_function_space(\"Lagrange\", degree)\n",
    "\n",
    "    return geom"
   ]
  },
  {
   "cell_type": "code",
   "execution_count": 4,
   "metadata": {},
   "outputs": [],
   "source": [
    "def normalize_robin_vectors(omega, A, C, p, p_adj, c, geom):\n",
    "    L_dash = (2*omega)*C\n",
    "    Lp = fem.Function(geom.V)\n",
    "    L_dash.mult(p.vector, Lp.vector)\n",
    "\n",
    "    first_term_val = conjugate_function(p_adj).vector.dot(Lp.vector)\n",
    "    print(first_term_val)\n",
    "\n",
    "    # first_term = fem.form(ufl.inner(p_adj, Lp)*ufl.dx)\n",
    "    # first_term_val = fem.assemble_scalar(first_term)\n",
    "\n",
    "    Z=1\n",
    "    second_term = fem.form((1j*c/Z) * ufl.inner(p_adj, p)*ufl.ds)\n",
    "    second_term_val = fem.assemble_scalar(second_term)\n",
    "\n",
    "    norm_const = first_term_val + second_term_val\n",
    "\n",
    "    p.vector[:] = p.vector[:]/np.sqrt(norm_const)\n",
    "    p_adj.vector[:] = p_adj.vector[:]/np.sqrt(norm_const)\n",
    "\n",
    "    return [p, p_adj]"
   ]
  },
  {
   "cell_type": "code",
   "execution_count": 5,
   "metadata": {},
   "outputs": [],
   "source": [
    "def find_eigenvalue(epsilon):\n",
    "    degree = 3\n",
    "    c_const = np.sqrt(5)\n",
    "    geom = create_mesh(epsilon, 1e-3, degree)\n",
    "    c = fem.Constant(geom.msh, PETSc.ScalarType(c_const))\n",
    "\n",
    "    boundaries = [(1, lambda x: np.isclose(x[0], 0)),\n",
    "              (2, lambda x: np.isclose(x[0], 1)),\n",
    "              (3, lambda x: np.isclose(x[1], -epsilon)),\n",
    "              (4, lambda x: np.isclose(x[1], 1))]\n",
    "    \n",
    "    ds, facet_tags = tag_boundaries(geom.msh, boundaries=boundaries, return_tags=True)\n",
    "\n",
    "    boundary_conditions = {4: {'Dirichlet'},\n",
    "                        3: {'Dirichlet'},\n",
    "                        2: {'Dirichlet'},\n",
    "                        1: {'Dirichlet'}}\n",
    "\n",
    "    matrices = PassiveFlame(geom.msh, facet_tags, boundary_conditions, c , degree = degree)\n",
    "\n",
    "    matrices.assemble_A()\n",
    "    matrices.assemble_C()\n",
    "\n",
    "    A = matrices.A\n",
    "    C = matrices.C\n",
    "\n",
    "    target =  c_const * np.pi\n",
    "    E = eps_solver(A, C, target**2, nev = 2, two_sided=True)\n",
    "    omega, p = normalize_eigenvector(geom.msh, E, 0, degree=degree, which='right')\n",
    "    omega_adj, p_adj = normalize_eigenvector(geom.msh, E, 0, degree=degree, which='left')\n",
    "\n",
    "    p = normalize_magnitude(p)\n",
    "    p_adj = normalize_magnitude(p_adj)\n",
    "    \n",
    "    p, p_adj = normalize_robin_vectors(omega, A, C, p, p_adj, c, geom)\n",
    "\n",
    "\n",
    "    \n",
    "    return [omega, p, p_adj, geom, ds, c]"
   ]
  },
  {
   "cell_type": "code",
   "execution_count": 6,
   "metadata": {},
   "outputs": [],
   "source": [
    "def find_shapegrad_dirichlet(omega, p, msh, ds):\n",
    "    V = fem.FunctionSpace(msh, (\"Lagrange\", 1))\n",
    "    V2 = fem.VectorFunctionSpace(msh, (\"Lagrange\", 1))\n",
    "    w = ufl.TrialFunction(V2)\n",
    "    v = ufl.TestFunction(V2)\n",
    "\n",
    "    a = ufl.inner(w, v)*ufl.dx\n",
    "    L = ufl.inner(ufl.grad(p), v)*ufl.dx\n",
    "\n",
    "    problem = fem.petsc.LinearProblem(a, L, petsc_options={\"ksp_type\": \"preonly\", \"pc_type\": \"lu\"})\n",
    "    grad_p = problem.solve()\n",
    "\n",
    "    G = fem.Function(V)\n",
    "    expr = fem.Expression(2/omega.real*np.dot(grad_p, [0, -1])**2, V.element.interpolation_points())\n",
    "    G.interpolate(expr)\n",
    "    dw = fem.assemble_scalar(fem.form(-G*ds(3))).real\n",
    "\n",
    "    return dw"
   ]
  },
  {
   "cell_type": "code",
   "execution_count": 7,
   "metadata": {},
   "outputs": [],
   "source": [
    "def find_shapegrad_dirichlet(omega, p, p_adj, geom, ds, c):\n",
    "    G = -c**2*ufl.Dn(p)*ufl.Dn(p_adj)\n",
    "    C = fem.Function(geom.V)\n",
    "    # geom = create_mesh1(0, 1e-2, 3)\n",
    "    geom.create_node_to_param_map()\n",
    "    C += geom.get_displacement_field(\"control point\", (0, 0), [0])[1]\n",
    "    C += geom.get_displacement_field(\"control point\", (0, 0), [1])[1]\n",
    "    dw = fem.assemble_scalar(fem.form(C* G*ds(3)))\n",
    "\n",
    "    return dw"
   ]
  },
  {
   "cell_type": "code",
   "execution_count": 8,
   "metadata": {},
   "outputs": [
    {
     "name": "stdout",
     "output_type": "stream",
     "text": [
      "Info    : Meshing 1D...\n",
      "Info    : [  0%] Meshing curve 1 (BSpline)\n",
      "Info    : [ 30%] Meshing curve 2 (BSpline)\n",
      "Info    : [ 50%] Meshing curve 3 (BSpline)\n",
      "Info    : [ 80%] Meshing curve 4 (BSpline)\n",
      "Info    : Done meshing 1D (Wall 0.014002s, CPU 0.015625s)\n",
      "Info    : Meshing 2D...\n",
      "Info    : Meshing surface 1 (Plane, Frontal-Delaunay)\n",
      "Info    : Done meshing 2D (Wall 223.777s, CPU 188.516s)\n",
      "Info    : 1157364 nodes 2314730 elements\n"
     ]
    },
    {
     "ename": "KeyboardInterrupt",
     "evalue": "",
     "output_type": "error",
     "traceback": [
      "\u001b[0;31m---------------------------------------------------------------------------\u001b[0m",
      "\u001b[0;31mKeyboardInterrupt\u001b[0m                         Traceback (most recent call last)",
      "Cell \u001b[0;32mIn [8], line 1\u001b[0m\n\u001b[0;32m----> 1\u001b[0m omega, p, p_adj, geom, ds, c \u001b[39m=\u001b[39m find_eigenvalue(\u001b[39m0\u001b[39;49m)\n\u001b[1;32m      2\u001b[0m dw \u001b[39m=\u001b[39m find_shapegrad_dirichlet(omega, p, p_adj, geom, ds, c)\n\u001b[1;32m      3\u001b[0m x_points \u001b[39m=\u001b[39m []\n",
      "Cell \u001b[0;32mIn [5], line 4\u001b[0m, in \u001b[0;36mfind_eigenvalue\u001b[0;34m(epsilon)\u001b[0m\n\u001b[1;32m      2\u001b[0m degree \u001b[39m=\u001b[39m \u001b[39m3\u001b[39m\n\u001b[1;32m      3\u001b[0m c_const \u001b[39m=\u001b[39m np\u001b[39m.\u001b[39msqrt(\u001b[39m5\u001b[39m)\n\u001b[0;32m----> 4\u001b[0m geom \u001b[39m=\u001b[39m create_mesh(epsilon, \u001b[39m1e-3\u001b[39;49m, degree)\n\u001b[1;32m      5\u001b[0m c \u001b[39m=\u001b[39m fem\u001b[39m.\u001b[39mConstant(geom\u001b[39m.\u001b[39mmsh, PETSc\u001b[39m.\u001b[39mScalarType(c_const))\n\u001b[1;32m      7\u001b[0m boundaries \u001b[39m=\u001b[39m [(\u001b[39m1\u001b[39m, \u001b[39mlambda\u001b[39;00m x: np\u001b[39m.\u001b[39misclose(x[\u001b[39m0\u001b[39m], \u001b[39m0\u001b[39m)),\n\u001b[1;32m      8\u001b[0m           (\u001b[39m2\u001b[39m, \u001b[39mlambda\u001b[39;00m x: np\u001b[39m.\u001b[39misclose(x[\u001b[39m0\u001b[39m], \u001b[39m1\u001b[39m)),\n\u001b[1;32m      9\u001b[0m           (\u001b[39m3\u001b[39m, \u001b[39mlambda\u001b[39;00m x: np\u001b[39m.\u001b[39misclose(x[\u001b[39m1\u001b[39m], \u001b[39m-\u001b[39mepsilon)),\n\u001b[1;32m     10\u001b[0m           (\u001b[39m4\u001b[39m, \u001b[39mlambda\u001b[39;00m x: np\u001b[39m.\u001b[39misclose(x[\u001b[39m1\u001b[39m], \u001b[39m1\u001b[39m))]\n",
      "Cell \u001b[0;32mIn [3], line 8\u001b[0m, in \u001b[0;36mcreate_mesh\u001b[0;34m(epsilon, lc, degree)\u001b[0m\n\u001b[1;32m      6\u001b[0m geom\u001b[39m.\u001b[39mgenerate_mesh()\n\u001b[1;32m      7\u001b[0m geom\u001b[39m.\u001b[39madd_bspline_groups([[\u001b[39m10\u001b[39m, \u001b[39m11\u001b[39m, \u001b[39m12\u001b[39m, \u001b[39m13\u001b[39m]])\n\u001b[0;32m----> 8\u001b[0m geom\u001b[39m.\u001b[39;49mmodel_to_fenics(MPI\u001b[39m.\u001b[39;49mCOMM_WORLD, \u001b[39m0\u001b[39;49m, show_mesh\u001b[39m=\u001b[39;49m\u001b[39mFalse\u001b[39;49;00m)\n\u001b[1;32m      9\u001b[0m geom\u001b[39m.\u001b[39mcreate_function_space(\u001b[39m\"\u001b[39m\u001b[39mLagrange\u001b[39m\u001b[39m\"\u001b[39m, degree)\n\u001b[1;32m     11\u001b[0m \u001b[39mreturn\u001b[39;00m geom\n",
      "File \u001b[0;32m~/Fenics/shape_grad/_packages/bspline/nurbs_geometry.py:63\u001b[0m, in \u001b[0;36mNURBsGeometry.model_to_fenics\u001b[0;34m(self, comm, rank, show_mesh)\u001b[0m\n\u001b[1;32m     62\u001b[0m \u001b[39mdef\u001b[39;00m \u001b[39mmodel_to_fenics\u001b[39m(\u001b[39mself\u001b[39m, comm\u001b[39m=\u001b[39mMPI\u001b[39m.\u001b[39mCOMM_WORLD, rank\u001b[39m=\u001b[39m\u001b[39m0\u001b[39m, show_mesh\u001b[39m=\u001b[39m\u001b[39mFalse\u001b[39;00m):\n\u001b[0;32m---> 63\u001b[0m     \u001b[39mself\u001b[39;49m\u001b[39m.\u001b[39;49mmodel\u001b[39m.\u001b[39;49mmesh\u001b[39m.\u001b[39;49mgenerate(\u001b[39mself\u001b[39;49m\u001b[39m.\u001b[39;49mdim)\n\u001b[1;32m     64\u001b[0m     \u001b[39mself\u001b[39m\u001b[39m.\u001b[39mmsh, \u001b[39mself\u001b[39m\u001b[39m.\u001b[39mcell_markers, \u001b[39mself\u001b[39m\u001b[39m.\u001b[39mfacet_markers \u001b[39m=\u001b[39m gmshio\u001b[39m.\u001b[39mmodel_to_mesh(\u001b[39mself\u001b[39m\u001b[39m.\u001b[39mmodel, comm, rank)\n\u001b[1;32m     66\u001b[0m     \u001b[39mif\u001b[39;00m show_mesh \u001b[39mand\u001b[39;00m \u001b[39m'\u001b[39m\u001b[39m-nopopup\u001b[39m\u001b[39m'\u001b[39m \u001b[39mnot\u001b[39;00m \u001b[39min\u001b[39;00m sys\u001b[39m.\u001b[39margv:\n",
      "File \u001b[0;32m~/.local/lib/python3.10/site-packages/gmsh.py:1969\u001b[0m, in \u001b[0;36mmodel.mesh.generate\u001b[0;34m(dim)\u001b[0m\n\u001b[1;32m   1960\u001b[0m \u001b[39m\"\"\"\u001b[39;00m\n\u001b[1;32m   1961\u001b[0m \u001b[39mgmsh.model.mesh.generate(dim=3)\u001b[39;00m\n\u001b[1;32m   1962\u001b[0m \n\u001b[0;32m   (...)\u001b[0m\n\u001b[1;32m   1966\u001b[0m \u001b[39m- `dim': integer\u001b[39;00m\n\u001b[1;32m   1967\u001b[0m \u001b[39m\"\"\"\u001b[39;00m\n\u001b[1;32m   1968\u001b[0m ierr \u001b[39m=\u001b[39m c_int()\n\u001b[0;32m-> 1969\u001b[0m lib\u001b[39m.\u001b[39;49mgmshModelMeshGenerate(\n\u001b[1;32m   1970\u001b[0m     c_int(dim),\n\u001b[1;32m   1971\u001b[0m     byref(ierr))\n\u001b[1;32m   1972\u001b[0m \u001b[39mif\u001b[39;00m ierr\u001b[39m.\u001b[39mvalue \u001b[39m!=\u001b[39m \u001b[39m0\u001b[39m:\n\u001b[1;32m   1973\u001b[0m     \u001b[39mraise\u001b[39;00m \u001b[39mException\u001b[39;00m(logger\u001b[39m.\u001b[39mgetLastError())\n",
      "\u001b[0;31mKeyboardInterrupt\u001b[0m: "
     ]
    }
   ],
   "source": [
    "omega, p, p_adj, geom, ds, c = find_eigenvalue(0)\n",
    "dw = find_shapegrad_dirichlet(omega, p, p_adj, geom, ds, c)\n",
    "x_points = []\n",
    "y_points = []\n",
    "print(dw)\n",
    "\n",
    "for i in range(1, 5):\n",
    "    epsilon = 0.01*i\n",
    "    omega_new = find_eigenvalue(epsilon)[0]\n",
    "    Delta_w_FD = omega_new.real - omega.real\n",
    "    x_points.append(epsilon**2)\n",
    "    y_points.append(abs(Delta_w_FD - dw*epsilon))\n",
    "\n",
    "plt.plot([x_points[0], x_points[-1]], [y_points[0], y_points[-1]], color='0.8', linestyle='--')\n",
    "plt.plot(x_points, y_points)\n",
    "plt.xlabel('$\\epsilon^2$')\n",
    "plt.ylabel('$|\\delta_{FD} - \\delta_{AD}|$')"
   ]
  },
  {
   "cell_type": "code",
   "execution_count": null,
   "metadata": {},
   "outputs": [],
   "source": []
  }
 ],
 "metadata": {
  "kernelspec": {
   "display_name": "Python 3.10.6 64-bit",
   "language": "python",
   "name": "python3"
  },
  "language_info": {
   "codemirror_mode": {
    "name": "ipython",
    "version": 3
   },
   "file_extension": ".py",
   "mimetype": "text/x-python",
   "name": "python",
   "nbconvert_exporter": "python",
   "pygments_lexer": "ipython3",
   "version": "3.10.6"
  },
  "orig_nbformat": 4,
  "vscode": {
   "interpreter": {
    "hash": "916dbcbb3f70747c44a77c7bcd40155683ae19c65e1c03b4aa3499c5328201f1"
   }
  }
 },
 "nbformat": 4,
 "nbformat_minor": 2
}
