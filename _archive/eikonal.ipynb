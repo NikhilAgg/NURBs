{
 "cells": [
  {
   "cell_type": "code",
   "execution_count": 4,
   "metadata": {},
   "outputs": [],
   "source": [
    "%load_ext autoreload\n",
    "%autoreload 2\n",
    "from dolfinx import fem, mesh, plot, nls, log\n",
    "from dolfinx.io import gmshio\n",
    "from mpi4py import MPI\n",
    "import ufl\n",
    "from petsc4py import PETSc\n",
    "from slepc4py import SLEPc\n",
    "import numpy as np\n",
    "from dolfinx.io import XDMFFile\n",
    "import matplotlib.pyplot as plt\n",
    "from scipy.linalg import null_space\n",
    "from dolfinx_utils import *\n",
    "from helmholtz_x.passive_flame_x import *\n",
    "from helmholtz_x.eigensolvers_x import eps_solver\n",
    "from helmholtz_x.eigenvectors_x import normalize_eigenvector, normalize_unit\n",
    "from helmholtz_x.dolfinx_utils import XDMFReader, xdmf_writer \n",
    "import pyvista\n",
    "\n",
    "%autoreload utils.dolfin_utils"
   ]
  },
  {
   "cell_type": "code",
   "execution_count": 5,
   "metadata": {},
   "outputs": [],
   "source": [
    "N = 10\n",
    "degree = 1\n",
    "c_const = 1\n",
    "msh = mesh.create_unit_square(MPI.COMM_WORLD, N, N)\n",
    "c = fem.Constant(msh, PETSc.ScalarType(c_const))\n"
   ]
  },
  {
   "cell_type": "code",
   "execution_count": 6,
   "metadata": {},
   "outputs": [],
   "source": [
    "boundaries = [(1, lambda x: np.isclose(x[0], 0)),\n",
    "              (2, lambda x: np.isclose(x[0], 1)),\n",
    "              (3, lambda x: np.isclose(x[1], 0)),\n",
    "              (4, lambda x: np.isclose(x[1], 1))]\n",
    "    \n",
    "ds, facet_tags = tag_boundaries(msh, boundaries=boundaries, return_tags=True)\n",
    "\n",
    "boundary_conditions = {4: {'Dirichlet'},\n",
    "                       3: {'Dirichlet'},\n",
    "                       2: {'Dirichlet'},\n",
    "                       1: {'Dirichlet'}}"
   ]
  },
  {
   "cell_type": "code",
   "execution_count": 7,
   "metadata": {},
   "outputs": [],
   "source": [
    "V = fem.FunctionSpace(msh, (\"CG\", 3))\n",
    "\n",
    "#Boundary Conditions\n",
    "bound_func = fem.Function(V)\n",
    "bound_func.interpolate(lambda x: x[0]*0)\n",
    "\n",
    "def onbound(x):\n",
    "    return np.logical_or(np.logical_or(np.isclose(x[0], 0), np.isclose(x[0], 1)), \n",
    "                                np.logical_or(np.isclose(x[1], 1), np.isclose(x[1], 0)))\n",
    "\n",
    "bound_facets = mesh.locate_entities_boundary(msh, msh.topology.dim-1, onbound)\n",
    "bound_dof = fem.locate_dofs_topological(V, msh.topology.dim-1, bound_facets)\n",
    "\n",
    "bound_cond = fem.dirichletbc(bound_func, bound_dof)"
   ]
  },
  {
   "cell_type": "code",
   "execution_count": 8,
   "metadata": {},
   "outputs": [],
   "source": [
    "u = ufl.TrialFunction(V)\n",
    "v = ufl.TestFunction(V)\n",
    "f = fem.Constant(msh, PETSc.ScalarType(1))\n",
    "\n",
    "a = ufl.inner(ufl.grad(u), ufl.grad(v))*ufl.dx\n",
    "L = ufl.inner(f, v)*ufl.dx\n",
    "\n",
    "problem = fem.petsc.LinearProblem(a, L, petsc_options={\"ksp_type\": \"preonly\", \"pc_type\": \"lu\"}, bcs=[bound_cond])\n",
    "b = problem.solve()"
   ]
  },
  {
   "cell_type": "code",
   "execution_count": 9,
   "metadata": {},
   "outputs": [],
   "source": [
    "v = ufl.TestFunction(V)\n",
    "f = fem.Constant(msh, PETSc.ScalarType(1))\n",
    "\n",
    "a = ufl.inner(ufl.sqrt(ufl.dot(ufl.grad(b), ufl.grad(b))), v)*ufl.dx - ufl.inner(f, v)*ufl.dx\n",
    "\n",
    "problem = fem.petsc.NonlinearProblem(a, b, bcs=[bound_cond])"
   ]
  },
  {
   "cell_type": "code",
   "execution_count": 10,
   "metadata": {},
   "outputs": [
    {
     "name": "stderr",
     "output_type": "stream",
     "text": [
      "2022-11-08 11:34:08.447 (  10.258s) [main            ]              petsc.cpp:677   INFO| PETSc Krylov solver starting to solve system.\n",
      "2022-11-08 11:34:14.973 (  16.784s) [main            ]              petsc.cpp:677   INFO| PETSc Krylov solver starting to solve system.\n",
      "2022-11-08 11:34:21.491 (  23.302s) [main            ]       NewtonSolver.cpp:36    INFO| Newton iteration 2: r (abs) = 29.9137 (tol = 1e-10) r (rel) = 1.24652(tol = 1e-06)\n",
      "2022-11-08 11:34:21.494 (  23.305s) [main            ]              petsc.cpp:677   INFO| PETSc Krylov solver starting to solve system.\n",
      "2022-11-08 11:34:21.505 (  23.315s) [main            ]       NewtonSolver.cpp:36    INFO| Newton iteration 3: r (abs) = 1389.84 (tol = 1e-10) r (rel) = 57.9155(tol = 1e-06)\n",
      "2022-11-08 11:34:21.508 (  23.318s) [main            ]              petsc.cpp:677   INFO| PETSc Krylov solver starting to solve system.\n",
      "2022-11-08 11:34:23.631 (  25.441s) [main            ]       NewtonSolver.cpp:36    INFO| Newton iteration 4: r (abs) = 2.01323e+07 (tol = 1e-10) r (rel) = 838925(tol = 1e-06)\n",
      "2022-11-08 11:34:23.633 (  25.444s) [main            ]              petsc.cpp:677   INFO| PETSc Krylov solver starting to solve system.\n",
      "2022-11-08 11:34:23.643 (  25.454s) [main            ]       NewtonSolver.cpp:36    INFO| Newton iteration 5: r (abs) = 2.30058e+08 (tol = 1e-10) r (rel) = 9.58662e+06(tol = 1e-06)\n",
      "2022-11-08 11:34:23.647 (  25.458s) [main            ]              petsc.cpp:677   INFO| PETSc Krylov solver starting to solve system.\n",
      "2022-11-08 11:34:23.657 (  25.468s) [main            ]       NewtonSolver.cpp:36    INFO| Newton iteration 6: r (abs) = 2.70139e+11 (tol = 1e-10) r (rel) = 1.12568e+10(tol = 1e-06)\n",
      "2022-11-08 11:34:23.660 (  25.471s) [main            ]              petsc.cpp:677   INFO| PETSc Krylov solver starting to solve system.\n",
      "2022-11-08 11:34:29.571 (  31.381s) [main            ]       NewtonSolver.cpp:36    INFO| Newton iteration 7: r (abs) = 5.86779e+11 (tol = 1e-10) r (rel) = 2.44514e+10(tol = 1e-06)\n",
      "2022-11-08 11:34:29.574 (  31.384s) [main            ]              petsc.cpp:677   INFO| PETSc Krylov solver starting to solve system.\n",
      "2022-11-08 11:34:29.798 (  31.608s) [main            ]       NewtonSolver.cpp:36    INFO| Newton iteration 8: r (abs) = 5.55614e+12 (tol = 1e-10) r (rel) = 2.31527e+11(tol = 1e-06)\n",
      "2022-11-08 11:34:29.801 (  31.612s) [main            ]              petsc.cpp:677   INFO| PETSc Krylov solver starting to solve system.\n",
      "2022-11-08 11:34:35.270 (  37.081s) [main            ]       NewtonSolver.cpp:36    INFO| Newton iteration 9: r (abs) = 2.15809e+13 (tol = 1e-10) r (rel) = 8.99288e+11(tol = 1e-06)\n",
      "2022-11-08 11:34:35.274 (  37.085s) [main            ]              petsc.cpp:677   INFO| PETSc Krylov solver starting to solve system.\n",
      "2022-11-08 11:34:40.796 (  42.606s) [main            ]       NewtonSolver.cpp:36    INFO| Newton iteration 10: r (abs) = 6.61467e+14 (tol = 1e-10) r (rel) = 2.75637e+13(tol = 1e-06)\n",
      "2022-11-08 11:34:40.799 (  42.610s) [main            ]              petsc.cpp:677   INFO| PETSc Krylov solver starting to solve system.\n",
      "2022-11-08 11:34:40.810 (  42.621s) [main            ]       NewtonSolver.cpp:36    INFO| Newton iteration 11: r (abs) = 6.34367e+14 (tol = 1e-10) r (rel) = 2.64344e+13(tol = 1e-06)\n",
      "2022-11-08 11:34:40.813 (  42.624s) [main            ]              petsc.cpp:677   INFO| PETSc Krylov solver starting to solve system.\n",
      "2022-11-08 11:34:46.359 (  48.170s) [main            ]       NewtonSolver.cpp:36    INFO| Newton iteration 12: r (abs) = 2.67214e+15 (tol = 1e-10) r (rel) = 1.11349e+14(tol = 1e-06)\n",
      "2022-11-08 11:34:46.366 (  48.177s) [main            ]              petsc.cpp:677   INFO| PETSc Krylov solver starting to solve system.\n",
      "2022-11-08 11:34:46.388 (  48.199s) [main            ]       NewtonSolver.cpp:36    INFO| Newton iteration 13: r (abs) = 5.16637e+16 (tol = 1e-10) r (rel) = 2.15285e+15(tol = 1e-06)\n",
      "2022-11-08 11:34:46.392 (  48.202s) [main            ]              petsc.cpp:677   INFO| PETSc Krylov solver starting to solve system.\n",
      "2022-11-08 11:34:51.859 (  53.670s) [main            ]       NewtonSolver.cpp:36    INFO| Newton iteration 14: r (abs) = 1.17574e+17 (tol = 1e-10) r (rel) = 4.89935e+15(tol = 1e-06)\n",
      "2022-11-08 11:34:51.862 (  53.673s) [main            ]              petsc.cpp:677   INFO| PETSc Krylov solver starting to solve system.\n",
      "2022-11-08 11:34:51.965 (  53.776s) [main            ]       NewtonSolver.cpp:36    INFO| Newton iteration 15: r (abs) = 2.09095e+18 (tol = 1e-10) r (rel) = 8.71309e+16(tol = 1e-06)\n",
      "2022-11-08 11:34:51.968 (  53.779s) [main            ]              petsc.cpp:677   INFO| PETSc Krylov solver starting to solve system.\n",
      "2022-11-08 11:34:52.011 (  53.822s) [main            ]       NewtonSolver.cpp:36    INFO| Newton iteration 16: r (abs) = 4.93217e+22 (tol = 1e-10) r (rel) = 2.05526e+21(tol = 1e-06)\n",
      "2022-11-08 11:34:52.015 (  53.826s) [main            ]              petsc.cpp:677   INFO| PETSc Krylov solver starting to solve system.\n",
      "2022-11-08 11:34:57.650 (  59.461s) [main            ]       NewtonSolver.cpp:36    INFO| Newton iteration 17: r (abs) = 1.57139e+23 (tol = 1e-10) r (rel) = 6.54806e+21(tol = 1e-06)\n",
      "2022-11-08 11:34:57.653 (  59.464s) [main            ]              petsc.cpp:677   INFO| PETSc Krylov solver starting to solve system.\n",
      "2022-11-08 11:34:57.665 (  59.476s) [main            ]       NewtonSolver.cpp:36    INFO| Newton iteration 18: r (abs) = 2.54429e+24 (tol = 1e-10) r (rel) = 1.06022e+23(tol = 1e-06)\n",
      "2022-11-08 11:34:57.669 (  59.480s) [main            ]              petsc.cpp:677   INFO| PETSc Krylov solver starting to solve system.\n",
      "2022-11-08 11:35:04.070 (  65.881s) [main            ]       NewtonSolver.cpp:36    INFO| Newton iteration 19: r (abs) = 3.1181e+25 (tol = 1e-10) r (rel) = 1.29933e+24(tol = 1e-06)\n",
      "2022-11-08 11:35:04.073 (  65.884s) [main            ]              petsc.cpp:677   INFO| PETSc Krylov solver starting to solve system.\n",
      "2022-11-08 11:35:04.087 (  65.898s) [main            ]       NewtonSolver.cpp:36    INFO| Newton iteration 20: r (abs) = 1.16337e+28 (tol = 1e-10) r (rel) = 4.84783e+26(tol = 1e-06)\n",
      "2022-11-08 11:35:04.092 (  65.903s) [main            ]              petsc.cpp:677   INFO| PETSc Krylov solver starting to solve system.\n",
      "2022-11-08 11:35:04.118 (  65.928s) [main            ]       NewtonSolver.cpp:36    INFO| Newton iteration 21: r (abs) = 5.26527e+28 (tol = 1e-10) r (rel) = 2.19406e+27(tol = 1e-06)\n",
      "2022-11-08 11:35:04.121 (  65.931s) [main            ]              petsc.cpp:677   INFO| PETSc Krylov solver starting to solve system.\n",
      "2022-11-08 11:35:11.115 (  72.926s) [main            ]       NewtonSolver.cpp:36    INFO| Newton iteration 22: r (abs) = 1.57152e+27 (tol = 1e-10) r (rel) = 6.54861e+25(tol = 1e-06)\n",
      "2022-11-08 11:35:11.118 (  72.929s) [main            ]              petsc.cpp:677   INFO| PETSc Krylov solver starting to solve system.\n",
      "2022-11-08 11:35:11.132 (  72.942s) [main            ]       NewtonSolver.cpp:36    INFO| Newton iteration 23: r (abs) = 9.96166e+29 (tol = 1e-10) r (rel) = 4.15108e+28(tol = 1e-06)\n",
      "2022-11-08 11:35:11.135 (  72.945s) [main            ]              petsc.cpp:677   INFO| PETSc Krylov solver starting to solve system.\n",
      "2022-11-08 11:35:11.160 (  72.971s) [main            ]       NewtonSolver.cpp:36    INFO| Newton iteration 24: r (abs) = 1.8192e+31 (tol = 1e-10) r (rel) = 7.58069e+29(tol = 1e-06)\n",
      "2022-11-08 11:35:11.163 (  72.974s) [main            ]              petsc.cpp:677   INFO| PETSc Krylov solver starting to solve system.\n",
      "2022-11-08 11:35:11.174 (  72.984s) [main            ]       NewtonSolver.cpp:36    INFO| Newton iteration 25: r (abs) = 6.96493e+32 (tol = 1e-10) r (rel) = 2.90232e+31(tol = 1e-06)\n",
      "2022-11-08 11:35:11.179 (  72.990s) [main            ]              petsc.cpp:677   INFO| PETSc Krylov solver starting to solve system.\n",
      "2022-11-08 11:35:17.737 (  79.547s) [main            ]       NewtonSolver.cpp:36    INFO| Newton iteration 26: r (abs) = 8.69131e+32 (tol = 1e-10) r (rel) = 3.62172e+31(tol = 1e-06)\n",
      "2022-11-08 11:35:17.739 (  79.550s) [main            ]              petsc.cpp:677   INFO| PETSc Krylov solver starting to solve system.\n",
      "2022-11-08 11:35:23.493 (  85.304s) [main            ]       NewtonSolver.cpp:36    INFO| Newton iteration 27: r (abs) = 9.655e+31 (tol = 1e-10) r (rel) = 4.02329e+30(tol = 1e-06)\n",
      "2022-11-08 11:35:23.496 (  85.307s) [main            ]              petsc.cpp:677   INFO| PETSc Krylov solver starting to solve system.\n",
      "2022-11-08 11:35:31.025 (  92.836s) [main            ]       NewtonSolver.cpp:36    INFO| Newton iteration 28: r (abs) = 2.0211e+37 (tol = 1e-10) r (rel) = 8.42204e+35(tol = 1e-06)\n",
      "2022-11-08 11:35:31.029 (  92.839s) [main            ]              petsc.cpp:677   INFO| PETSc Krylov solver starting to solve system.\n",
      "2022-11-08 11:35:31.051 (  92.862s) [main            ]       NewtonSolver.cpp:36    INFO| Newton iteration 29: r (abs) = 9.32796e+39 (tol = 1e-10) r (rel) = 3.88701e+38(tol = 1e-06)\n",
      "2022-11-08 11:35:31.054 (  92.865s) [main            ]              petsc.cpp:677   INFO| PETSc Krylov solver starting to solve system.\n",
      "2022-11-08 11:35:31.071 (  92.882s) [main            ]       NewtonSolver.cpp:36    INFO| Newton iteration 30: r (abs) = 8.00583e+39 (tol = 1e-10) r (rel) = 3.33607e+38(tol = 1e-06)\n",
      "2022-11-08 11:35:31.075 (  92.885s) [main            ]              petsc.cpp:677   INFO| PETSc Krylov solver starting to solve system.\n",
      "2022-11-08 11:35:31.087 (  92.897s) [main            ]       NewtonSolver.cpp:36    INFO| Newton iteration 31: r (abs) = 7.2895e+40 (tol = 1e-10) r (rel) = 3.03757e+39(tol = 1e-06)\n",
      "2022-11-08 11:35:31.090 (  92.901s) [main            ]              petsc.cpp:677   INFO| PETSc Krylov solver starting to solve system.\n",
      "2022-11-08 11:35:37.422 (  99.232s) [main            ]       NewtonSolver.cpp:36    INFO| Newton iteration 32: r (abs) = 5.9469e+42 (tol = 1e-10) r (rel) = 2.4781e+41(tol = 1e-06)\n",
      "2022-11-08 11:35:37.425 (  99.236s) [main            ]              petsc.cpp:677   INFO| PETSc Krylov solver starting to solve system.\n",
      "2022-11-08 11:35:37.434 (  99.245s) [main            ]       NewtonSolver.cpp:36    INFO| Newton iteration 33: r (abs) = 1.12349e+45 (tol = 1e-10) r (rel) = 4.68164e+43(tol = 1e-06)\n",
      "2022-11-08 11:35:37.437 (  99.248s) [main            ]              petsc.cpp:677   INFO| PETSc Krylov solver starting to solve system.\n",
      "2022-11-08 11:35:37.448 (  99.259s) [main            ]       NewtonSolver.cpp:36    INFO| Newton iteration 34: r (abs) = 4.91386e+46 (tol = 1e-10) r (rel) = 2.04763e+45(tol = 1e-06)\n",
      "2022-11-08 11:35:37.453 (  99.263s) [main            ]              petsc.cpp:677   INFO| PETSc Krylov solver starting to solve system.\n",
      "2022-11-08 11:35:37.464 (  99.275s) [main            ]       NewtonSolver.cpp:36    INFO| Newton iteration 35: r (abs) = 1.65664e+47 (tol = 1e-10) r (rel) = 6.90332e+45(tol = 1e-06)\n",
      "2022-11-08 11:35:37.468 (  99.279s) [main            ]              petsc.cpp:677   INFO| PETSc Krylov solver starting to solve system.\n",
      "2022-11-08 11:35:37.482 (  99.293s) [main            ]       NewtonSolver.cpp:36    INFO| Newton iteration 36: r (abs) = 1.77791e+47 (tol = 1e-10) r (rel) = 7.40865e+45(tol = 1e-06)\n",
      "2022-11-08 11:35:37.489 (  99.300s) [main            ]              petsc.cpp:677   INFO| PETSc Krylov solver starting to solve system.\n",
      "2022-11-08 11:35:37.520 (  99.331s) [main            ]       NewtonSolver.cpp:36    INFO| Newton iteration 37: r (abs) = 4.33166e+51 (tol = 1e-10) r (rel) = 1.80502e+50(tol = 1e-06)\n",
      "2022-11-08 11:35:37.527 (  99.337s) [main            ]              petsc.cpp:677   INFO| PETSc Krylov solver starting to solve system.\n",
      "2022-11-08 11:35:37.545 (  99.356s) [main            ]       NewtonSolver.cpp:36    INFO| Newton iteration 38: r (abs) = 5.20768e+52 (tol = 1e-10) r (rel) = 2.17007e+51(tol = 1e-06)\n",
      "2022-11-08 11:35:37.550 (  99.361s) [main            ]              petsc.cpp:677   INFO| PETSc Krylov solver starting to solve system.\n",
      "2022-11-08 11:35:37.572 (  99.382s) [main            ]       NewtonSolver.cpp:36    INFO| Newton iteration 39: r (abs) = 1.84498e+53 (tol = 1e-10) r (rel) = 7.68811e+51(tol = 1e-06)\n",
      "2022-11-08 11:35:37.575 (  99.386s) [main            ]              petsc.cpp:677   INFO| PETSc Krylov solver starting to solve system.\n",
      "2022-11-08 11:35:37.594 (  99.405s) [main            ]       NewtonSolver.cpp:36    INFO| Newton iteration 40: r (abs) = 2.58411e+54 (tol = 1e-10) r (rel) = 1.07681e+53(tol = 1e-06)\n",
      "2022-11-08 11:35:37.598 (  99.409s) [main            ]              petsc.cpp:677   INFO| PETSc Krylov solver starting to solve system.\n",
      "2022-11-08 11:35:37.617 (  99.428s) [main            ]       NewtonSolver.cpp:36    INFO| Newton iteration 41: r (abs) = 2.24468e+55 (tol = 1e-10) r (rel) = 9.35371e+53(tol = 1e-06)\n",
      "2022-11-08 11:35:37.622 (  99.433s) [main            ]              petsc.cpp:677   INFO| PETSc Krylov solver starting to solve system.\n",
      "2022-11-08 11:35:44.577 ( 106.388s) [main            ]       NewtonSolver.cpp:36    INFO| Newton iteration 42: r (abs) = 1.74546e+55 (tol = 1e-10) r (rel) = 7.27341e+53(tol = 1e-06)\n",
      "2022-11-08 11:35:44.580 ( 106.391s) [main            ]              petsc.cpp:677   INFO| PETSc Krylov solver starting to solve system.\n",
      "2022-11-08 11:35:51.489 ( 113.300s) [main            ]       NewtonSolver.cpp:36    INFO| Newton iteration 43: r (abs) = 5.66932e+54 (tol = 1e-10) r (rel) = 2.36243e+53(tol = 1e-06)\n",
      "2022-11-08 11:35:51.492 ( 113.303s) [main            ]              petsc.cpp:677   INFO| PETSc Krylov solver starting to solve system.\n",
      "2022-11-08 11:35:58.263 ( 120.074s) [main            ]       NewtonSolver.cpp:36    INFO| Newton iteration 44: r (abs) = 2.6063e+55 (tol = 1e-10) r (rel) = 1.08606e+54(tol = 1e-06)\n",
      "2022-11-08 11:35:58.267 ( 120.077s) [main            ]              petsc.cpp:677   INFO| PETSc Krylov solver starting to solve system.\n",
      "2022-11-08 11:36:04.332 ( 126.143s) [main            ]       NewtonSolver.cpp:36    INFO| Newton iteration 45: r (abs) = 1.47166e+55 (tol = 1e-10) r (rel) = 6.13249e+53(tol = 1e-06)\n",
      "2022-11-08 11:36:04.335 ( 126.146s) [main            ]              petsc.cpp:677   INFO| PETSc Krylov solver starting to solve system.\n",
      "2022-11-08 11:36:04.499 ( 126.310s) [main            ]       NewtonSolver.cpp:36    INFO| Newton iteration 46: r (abs) = 1.70344e+57 (tol = 1e-10) r (rel) = 7.09831e+55(tol = 1e-06)\n",
      "2022-11-08 11:36:04.502 ( 126.313s) [main            ]              petsc.cpp:677   INFO| PETSc Krylov solver starting to solve system.\n",
      "2022-11-08 11:36:04.513 ( 126.324s) [main            ]       NewtonSolver.cpp:36    INFO| Newton iteration 47: r (abs) = 7.77576e+57 (tol = 1e-10) r (rel) = 3.2402e+56(tol = 1e-06)\n",
      "2022-11-08 11:36:04.518 ( 126.329s) [main            ]              petsc.cpp:677   INFO| PETSc Krylov solver starting to solve system.\n",
      "2022-11-08 11:36:04.530 ( 126.341s) [main            ]       NewtonSolver.cpp:36    INFO| Newton iteration 48: r (abs) = 1.65892e+58 (tol = 1e-10) r (rel) = 6.91282e+56(tol = 1e-06)\n",
      "2022-11-08 11:36:04.534 ( 126.345s) [main            ]              petsc.cpp:677   INFO| PETSc Krylov solver starting to solve system.\n",
      "2022-11-08 11:36:04.584 ( 126.395s) [main            ]       NewtonSolver.cpp:36    INFO| Newton iteration 49: r (abs) = 1.05794e+59 (tol = 1e-10) r (rel) = 4.40849e+57(tol = 1e-06)\n",
      "2022-11-08 11:36:04.589 ( 126.400s) [main            ]              petsc.cpp:677   INFO| PETSc Krylov solver starting to solve system.\n",
      "2022-11-08 11:36:04.625 ( 126.436s) [main            ]       NewtonSolver.cpp:36    INFO| Newton iteration 50: r (abs) = 2.04345e+60 (tol = 1e-10) r (rel) = 8.51517e+58(tol = 1e-06)\n"
     ]
    },
    {
     "ename": "RuntimeError",
     "evalue": "Newton solver did not converge because maximum number of iterations reached",
     "output_type": "error",
     "traceback": [
      "\u001b[0;31m---------------------------------------------------------------------------\u001b[0m",
      "\u001b[0;31mRuntimeError\u001b[0m                              Traceback (most recent call last)",
      "Cell \u001b[0;32mIn [10], line 15\u001b[0m\n\u001b[1;32m     12\u001b[0m ksp\u001b[39m.\u001b[39msetFromOptions()\n\u001b[1;32m     14\u001b[0m log\u001b[39m.\u001b[39mset_log_level(log\u001b[39m.\u001b[39mLogLevel\u001b[39m.\u001b[39mINFO)\n\u001b[0;32m---> 15\u001b[0m n, converged \u001b[39m=\u001b[39m solver\u001b[39m.\u001b[39;49msolve(b)\n\u001b[1;32m     16\u001b[0m \u001b[39massert\u001b[39;00m(converged)\n\u001b[1;32m     17\u001b[0m \u001b[39mprint\u001b[39m(\u001b[39mf\u001b[39m\u001b[39m\"\u001b[39m\u001b[39mNumber of interations: \u001b[39m\u001b[39m{\u001b[39;00mn\u001b[39m:\u001b[39;00m\u001b[39md\u001b[39m\u001b[39m}\u001b[39;00m\u001b[39m\"\u001b[39m)\n",
      "File \u001b[0;32m/usr/lib/petscdir/petsc-3.18.0/arch-linux-c-debug/lib/dolfinx/nls/petsc.py:41\u001b[0m, in \u001b[0;36mNewtonSolver.solve\u001b[0;34m(self, u)\u001b[0m\n\u001b[1;32m     38\u001b[0m \u001b[39mdef\u001b[39;00m \u001b[39msolve\u001b[39m(\u001b[39mself\u001b[39m, u: fem\u001b[39m.\u001b[39mFunction):\n\u001b[1;32m     39\u001b[0m     \u001b[39m\"\"\"Solve non-linear problem into function u. Returns the number\u001b[39;00m\n\u001b[1;32m     40\u001b[0m \u001b[39m    of iterations and if the solver converged.\"\"\"\u001b[39;00m\n\u001b[0;32m---> 41\u001b[0m     n, converged \u001b[39m=\u001b[39m \u001b[39msuper\u001b[39;49m()\u001b[39m.\u001b[39;49msolve(u\u001b[39m.\u001b[39;49mvector)\n\u001b[1;32m     42\u001b[0m     u\u001b[39m.\u001b[39mx\u001b[39m.\u001b[39mscatter_forward()\n\u001b[1;32m     43\u001b[0m     \u001b[39mreturn\u001b[39;00m n, converged\n",
      "\u001b[0;31mRuntimeError\u001b[0m: Newton solver did not converge because maximum number of iterations reached"
     ]
    }
   ],
   "source": [
    "solver = nls.petsc.NewtonSolver(MPI.COMM_WORLD, problem)\n",
    "solver.convergence_criterion = \"incremental\"\n",
    "solver.rtol = 1e-6\n",
    "solver.report = True\n",
    "\n",
    "ksp = solver.krylov_solver\n",
    "opts = PETSc.Options()\n",
    "option_prefix = ksp.getOptionsPrefix()\n",
    "opts[f\"{option_prefix}ksp_type\"] = \"cg\"\n",
    "opts[f\"{option_prefix}pc_type\"] = \"gamg\"\n",
    "opts[f\"{option_prefix}pc_factor_mat_solver_type\"] = \"mumps\"\n",
    "ksp.setFromOptions()\n",
    "\n",
    "log.set_log_level(log.LogLevel.INFO)\n",
    "n, converged = solver.solve(b)\n",
    "assert(converged)\n",
    "print(f\"Number of interations: {n:d}\")"
   ]
  },
  {
   "cell_type": "code",
   "execution_count": null,
   "metadata": {},
   "outputs": [
    {
     "data": {
      "application/vnd.jupyter.widget-view+json": {
       "model_id": "f75a4ae7fa4d4107a7e630ce14460c9d",
       "version_major": 2,
       "version_minor": 0
      },
      "text/plain": [
       "ViewInteractiveWidget(height=768, layout=Layout(height='auto', width='100%'), width=1024)"
      ]
     },
     "metadata": {},
     "output_type": "display_data"
    }
   ],
   "source": [
    "plotter = pyvista.Plotter()\n",
    "\n",
    "topology, cell_types, geometry = plot.create_vtk_mesh(msh, msh.topology.dim)\n",
    "grid = pyvista.UnstructuredGrid(topology, cell_types, geometry)\n",
    "plotter.add_mesh(grid, show_edges=True)\n",
    "\n",
    "u_topology, u_cell_types, u_geometry = plot.create_vtk_mesh(V)\n",
    "u_grid = pyvista.UnstructuredGrid(u_topology, u_cell_types, u_geometry)\n",
    "\n",
    "u_grid.point_data[\"b\"] = b.x.array.real\n",
    "u_grid.set_active_scalars(\"b\")\n",
    "plotter.add_mesh(u_grid, show_edges=True)\n",
    "\n",
    "plotter.view_xy()\n",
    "plotter.show()"
   ]
  },
  {
   "cell_type": "code",
   "execution_count": 14,
   "metadata": {},
   "outputs": [
    {
     "data": {
      "text/plain": [
       "(0.07366554903923167+0j)"
      ]
     },
     "execution_count": 14,
     "metadata": {},
     "output_type": "execute_result"
    }
   ],
   "source": [
    "np.max(b.vector[:])"
   ]
  },
  {
   "cell_type": "code",
   "execution_count": null,
   "metadata": {},
   "outputs": [],
   "source": []
  }
 ],
 "metadata": {
  "kernelspec": {
   "display_name": "Python 3.10.6 64-bit",
   "language": "python",
   "name": "python3"
  },
  "language_info": {
   "codemirror_mode": {
    "name": "ipython",
    "version": 3
   },
   "file_extension": ".py",
   "mimetype": "text/x-python",
   "name": "python",
   "nbconvert_exporter": "python",
   "pygments_lexer": "ipython3",
   "version": "3.10.6"
  },
  "orig_nbformat": 4,
  "vscode": {
   "interpreter": {
    "hash": "916dbcbb3f70747c44a77c7bcd40155683ae19c65e1c03b4aa3499c5328201f1"
   }
  }
 },
 "nbformat": 4,
 "nbformat_minor": 2
}
